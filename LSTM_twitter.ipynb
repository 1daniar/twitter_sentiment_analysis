{
 "cells": [
  {
   "cell_type": "code",
   "execution_count": 96,
   "id": "b58a13c1",
   "metadata": {},
   "outputs": [
    {
     "name": "stderr",
     "output_type": "stream",
     "text": [
      "[nltk_data] Downloading package wordnet to\n",
      "[nltk_data]     C:\\Users\\1rati\\AppData\\Roaming\\nltk_data...\n",
      "[nltk_data]   Package wordnet is already up-to-date!\n"
     ]
    }
   ],
   "source": [
    "import pandas as pd\n",
    "import numpy as np\n",
    "import matplotlib.pyplot as plt\n",
    "import nltk\n",
    "from nltk import WordNetLemmatizer\n",
    "nltk.download('wordnet')\n",
    "from copy import deepcopy\n",
    "\n",
    "from tensorflow.keras import layers\n",
    "from tensorflow.keras.models import Sequential, load_model\n",
    "\n",
    "from tensorflow.keras.losses import BinaryCrossentropy\n",
    "from tensorflow.keras.optimizers import Adam\n",
    "from tensorflow.keras.metrics import AUC\n",
    "from tensorflow.keras.callbacks import ModelCheckpoint\n",
    "\n",
    "from sklearn.metrics import classification_report"
   ]
  },
  {
   "cell_type": "code",
   "execution_count": 59,
   "id": "8e21c437",
   "metadata": {},
   "outputs": [],
   "source": [
    "train_df = pd.read_csv('../data/text/Twitter Sentiment Analysis/train.csv')"
   ]
  },
  {
   "cell_type": "code",
   "execution_count": 36,
   "id": "62fadf49",
   "metadata": {},
   "outputs": [
    {
     "data": {
      "text/html": [
       "<div>\n",
       "<style scoped>\n",
       "    .dataframe tbody tr th:only-of-type {\n",
       "        vertical-align: middle;\n",
       "    }\n",
       "\n",
       "    .dataframe tbody tr th {\n",
       "        vertical-align: top;\n",
       "    }\n",
       "\n",
       "    .dataframe thead th {\n",
       "        text-align: right;\n",
       "    }\n",
       "</style>\n",
       "<table border=\"1\" class=\"dataframe\">\n",
       "  <thead>\n",
       "    <tr style=\"text-align: right;\">\n",
       "      <th></th>\n",
       "      <th>id</th>\n",
       "      <th>label</th>\n",
       "      <th>tweet</th>\n",
       "    </tr>\n",
       "  </thead>\n",
       "  <tbody>\n",
       "    <tr>\n",
       "      <th>0</th>\n",
       "      <td>1</td>\n",
       "      <td>0</td>\n",
       "      <td>@user when a father is dysfunctional and is s...</td>\n",
       "    </tr>\n",
       "    <tr>\n",
       "      <th>1</th>\n",
       "      <td>2</td>\n",
       "      <td>0</td>\n",
       "      <td>@user @user thanks for #lyft credit i can't us...</td>\n",
       "    </tr>\n",
       "    <tr>\n",
       "      <th>2</th>\n",
       "      <td>3</td>\n",
       "      <td>0</td>\n",
       "      <td>bihday your majesty</td>\n",
       "    </tr>\n",
       "    <tr>\n",
       "      <th>3</th>\n",
       "      <td>4</td>\n",
       "      <td>0</td>\n",
       "      <td>#model   i love u take with u all the time in ...</td>\n",
       "    </tr>\n",
       "    <tr>\n",
       "      <th>4</th>\n",
       "      <td>5</td>\n",
       "      <td>0</td>\n",
       "      <td>factsguide: society now    #motivation</td>\n",
       "    </tr>\n",
       "  </tbody>\n",
       "</table>\n",
       "</div>"
      ],
      "text/plain": [
       "   id  label                                              tweet\n",
       "0   1      0   @user when a father is dysfunctional and is s...\n",
       "1   2      0  @user @user thanks for #lyft credit i can't us...\n",
       "2   3      0                                bihday your majesty\n",
       "3   4      0  #model   i love u take with u all the time in ...\n",
       "4   5      0             factsguide: society now    #motivation"
      ]
     },
     "execution_count": 36,
     "metadata": {},
     "output_type": "execute_result"
    }
   ],
   "source": [
    "train_df.head()"
   ]
  },
  {
   "cell_type": "code",
   "execution_count": 37,
   "id": "83410685",
   "metadata": {},
   "outputs": [
    {
     "data": {
      "text/plain": [
       "0    29720\n",
       "1     2242\n",
       "Name: label, dtype: int64"
      ]
     },
     "execution_count": 37,
     "metadata": {},
     "output_type": "execute_result"
    }
   ],
   "source": [
    "train_df['label'].value_counts()"
   ]
  },
  {
   "cell_type": "code",
   "execution_count": 17,
   "id": "cf5da5d3",
   "metadata": {},
   "outputs": [],
   "source": [
    "def add_to_dict(d, filename):\n",
    "    with open(filename, 'r', encoding=\"utf8\") as f:\n",
    "        for line in f.readlines():\n",
    "            line = line.split(' ')\n",
    "            \n",
    "            try:\n",
    "                d[line[0]] = np.array(line[1:], dtype=float)\n",
    "            except:\n",
    "                continue"
   ]
  },
  {
   "cell_type": "code",
   "execution_count": 18,
   "id": "dbd79ebf",
   "metadata": {},
   "outputs": [],
   "source": [
    "# кажд слово это вектор. Вектора обучены на нейросети\n",
    "words = dict()\n",
    "add_to_dict(words, '../data/text/glove6B/glove.6b.50d.txt')"
   ]
  },
  {
   "cell_type": "code",
   "execution_count": 20,
   "id": "934389af",
   "metadata": {},
   "outputs": [
    {
     "data": {
      "text/plain": [
       "400000"
      ]
     },
     "execution_count": 20,
     "metadata": {},
     "output_type": "execute_result"
    }
   ],
   "source": [
    "len(words)"
   ]
  },
  {
   "cell_type": "code",
   "execution_count": 32,
   "id": "11ab755d",
   "metadata": {},
   "outputs": [
    {
     "data": {
      "text/plain": [
       "['user', 'when', 'a', 'father', 'is', 'dysfunctional', 'and', 'is']"
      ]
     },
     "execution_count": 32,
     "metadata": {},
     "output_type": "execute_result"
    }
   ],
   "source": [
    "tokenizer = nltk.RegexpTokenizer(r'\\w+')\n",
    "tokenizer.tokenize('@user when a father /is !dysfunctional and %is')"
   ]
  },
  {
   "cell_type": "code",
   "execution_count": 24,
   "id": "d107024c",
   "metadata": {},
   "outputs": [
    {
     "data": {
      "text/plain": [
       "'foot'"
      ]
     },
     "execution_count": 24,
     "metadata": {},
     "output_type": "execute_result"
    }
   ],
   "source": [
    "lemmatizer = WordNetLemmatizer()\n",
    "lemmatizer.lemmatize('feet')"
   ]
  },
  {
   "cell_type": "code",
   "execution_count": 46,
   "id": "85675978",
   "metadata": {},
   "outputs": [],
   "source": [
    "def message_to_token_list(s):\n",
    "    tokens = tokenizer.tokenize(s)\n",
    "    lowercased_tokens = [t.lower() for t in tokens]\n",
    "    lemmatized_tokens = [lemmatizer.lemmatize(t) for t in lowercased_tokens]\n",
    "    useful_tokens = [t for t in lemmatized_tokens if t in words]\n",
    "    \n",
    "    return useful_tokens"
   ]
  },
  {
   "cell_type": "code",
   "execution_count": 47,
   "id": "ff3a349f",
   "metadata": {},
   "outputs": [
    {
     "data": {
      "text/plain": [
       "['user', 'foot', 'a', 'father', 'is', 'dysfunctional', 'and', 'is']"
      ]
     },
     "execution_count": 47,
     "metadata": {},
     "output_type": "execute_result"
    }
   ],
   "source": [
    "message_to_token_list('@user @feet a $fathers /is !dysfunctional and %is')"
   ]
  },
  {
   "cell_type": "code",
   "execution_count": 48,
   "id": "43518b37",
   "metadata": {},
   "outputs": [],
   "source": [
    "def message_to_word_vectors(message, word_dict=words):\n",
    "    processed_list_of_tokens = message_to_token_list(message)\n",
    "    \n",
    "    vectors = []\n",
    "    \n",
    "    for token in processed_list_of_tokens:\n",
    "        token_vector = word_dict[token]\n",
    "        vectors.append(token_vector)\n",
    "        \n",
    "    return np.array(vectors, dtype=float)"
   ]
  },
  {
   "cell_type": "code",
   "execution_count": 49,
   "id": "48cd4e0a",
   "metadata": {},
   "outputs": [
    {
     "data": {
      "text/plain": [
       "(8, 50)"
      ]
     },
     "execution_count": 49,
     "metadata": {},
     "output_type": "execute_result"
    }
   ],
   "source": [
    "message_to_word_vectors('@user @feet a $fathers /is !dysfunctional and %is').shape"
   ]
  },
  {
   "cell_type": "code",
   "execution_count": 60,
   "id": "21f67e1f",
   "metadata": {},
   "outputs": [
    {
     "data": {
      "text/plain": [
       "(22373, 4794, 4795)"
      ]
     },
     "execution_count": 60,
     "metadata": {},
     "output_type": "execute_result"
    }
   ],
   "source": [
    "# frac ранд выбрать часть дан-х (1 это все дан-е)\n",
    "train_df = train_df.sample(frac=1, random_state=1)\n",
    "train_df.reset_index(drop=True, inplace=True)\n",
    "\n",
    "split_index_1 = int(len(train_df) * 0.7)\n",
    "split_index_2 = int(len(train_df) * 0.85)\n",
    "\n",
    "train_df, val_df, test_df = train_df[:split_index_1], train_df[split_index_1: split_index_2], train_df[split_index_2:]\n",
    "\n",
    "len(train_df), len(val_df), len(test_df)"
   ]
  },
  {
   "cell_type": "code",
   "execution_count": 51,
   "id": "c512c491",
   "metadata": {},
   "outputs": [],
   "source": [
    "def df_to_X_y(df):\n",
    "    y = df['label'].to_numpy().astype(int)\n",
    "    \n",
    "    all_word_vector_sequences = []\n",
    "    \n",
    "    for message in df['tweet']:\n",
    "        message_as_vector_sequense = message_to_word_vectors(message)\n",
    "        \n",
    "        # если нету такого слова в словаре\n",
    "        if message_as_vector_sequense.shape[0] == 0:\n",
    "            message_as_vector_sequense = np.zeros(shape=(1, 50))\n",
    "        all_word_vector_sequences.append(message_as_vector_sequense)\n",
    "        \n",
    "    return all_word_vector_sequences, y"
   ]
  },
  {
   "cell_type": "code",
   "execution_count": 61,
   "id": "c97cc10a",
   "metadata": {},
   "outputs": [],
   "source": [
    "X_train, y_train = df_to_X_y(train_df)"
   ]
  },
  {
   "cell_type": "code",
   "execution_count": 62,
   "id": "7c25ea0c",
   "metadata": {},
   "outputs": [
    {
     "data": {
      "text/plain": [
       "22373"
      ]
     },
     "execution_count": 62,
     "metadata": {},
     "output_type": "execute_result"
    }
   ],
   "source": [
    "len(X_train)"
   ]
  },
  {
   "cell_type": "code",
   "execution_count": 69,
   "id": "5c796b00",
   "metadata": {},
   "outputs": [
    {
     "data": {
      "text/plain": [
       "(13, 8, 7)"
      ]
     },
     "execution_count": 69,
     "metadata": {},
     "output_type": "execute_result"
    }
   ],
   "source": [
    "# предложения имеют разную длину\n",
    "len(X_train[0]), len(X_train[1]), len(X_train[2])"
   ]
  },
  {
   "cell_type": "code",
   "execution_count": 67,
   "id": "1a1fa1ca",
   "metadata": {},
   "outputs": [
    {
     "data": {
      "image/png": "[encoded data removed]",
      "text/plain": [
       "<Figure size 640x480 with 1 Axes>"
      ]
     },
     "metadata": {},
     "output_type": "display_data"
    }
   ],
   "source": [
    "sequence_lengths = []\n",
    "\n",
    "for i in range(len(X_train)):\n",
    "    sequence_lengths.append(len(X_train[i]))\n",
    "\n",
    "plt.hist(sequence_lengths);"
   ]
  },
  {
   "cell_type": "code",
   "execution_count": 68,
   "id": "14480588",
   "metadata": {},
   "outputs": [
    {
     "data": {
      "text/plain": [
       "count    22373.000000\n",
       "mean        12.692308\n",
       "std          5.929912\n",
       "min          1.000000\n",
       "25%          8.000000\n",
       "50%         12.000000\n",
       "75%         17.000000\n",
       "max         55.000000\n",
       "dtype: float64"
      ]
     },
     "execution_count": 68,
     "metadata": {},
     "output_type": "execute_result"
    }
   ],
   "source": [
    "pd.Series(sequence_lengths).describe()"
   ]
  },
  {
   "cell_type": "code",
   "execution_count": 73,
   "id": "e9dc2ce5",
   "metadata": {},
   "outputs": [],
   "source": [
    "# делаем все предложения одинак длины (макс 55), добавив в кон предлож-я нули \n",
    "def pad_X(X, desired_sequence_length=57):\n",
    "    X_copy = deepcopy(X)\n",
    "    \n",
    "    for i, x in enumerate(X):\n",
    "        x_sequence_length = x.shape[0]\n",
    "        sequence_length_difference = desired_sequence_length - x_sequence_length\n",
    "        \n",
    "        pad = np.zeros(shape=(sequence_length_difference, 50))\n",
    "        \n",
    "        X_copy[i] = np.concatenate([x, pad])\n",
    "        \n",
    "    return np.array(X_copy).astype(float)"
   ]
  },
  {
   "cell_type": "code",
   "execution_count": 74,
   "id": "b7fcd1d2",
   "metadata": {},
   "outputs": [],
   "source": [
    "X_train = pad_X(X_train)"
   ]
  },
  {
   "cell_type": "code",
   "execution_count": 75,
   "id": "13a6c310",
   "metadata": {},
   "outputs": [
    {
     "data": {
      "text/plain": [
       "(22373, 57, 50)"
      ]
     },
     "execution_count": 75,
     "metadata": {},
     "output_type": "execute_result"
    }
   ],
   "source": [
    "X_train.shape"
   ]
  },
  {
   "cell_type": "code",
   "execution_count": 78,
   "id": "5c6504b4",
   "metadata": {},
   "outputs": [
    {
     "data": {
      "text/plain": [
       "((4794, 57, 50), (4794,))"
      ]
     },
     "execution_count": 78,
     "metadata": {},
     "output_type": "execute_result"
    }
   ],
   "source": [
    "X_val, y_val = df_to_X_y(val_df)\n",
    "X_val = pad_X(X_val)\n",
    "X_val.shape, y_val.shape"
   ]
  },
  {
   "cell_type": "code",
   "execution_count": 79,
   "id": "56817a7c",
   "metadata": {},
   "outputs": [
    {
     "data": {
      "text/plain": [
       "((4795, 57, 50), (4795,))"
      ]
     },
     "execution_count": 79,
     "metadata": {},
     "output_type": "execute_result"
    }
   ],
   "source": [
    "X_test, y_test = df_to_X_y(test_df)\n",
    "X_test = pad_X(X_test)\n",
    "X_test.shape, y_test.shape"
   ]
  },
  {
   "cell_type": "code",
   "execution_count": 107,
   "id": "a2c6fe68",
   "metadata": {},
   "outputs": [],
   "source": [
    "model = Sequential([])\n",
    "model.add(layers.Input(shape=(57,50)))\n",
    "# return_sequences собирает стек векторов\n",
    "model.add(layers.LSTM(64, return_sequences=True))\n",
    "# избеж переобуч\n",
    "model.add(layers.Dropout(0.2))\n",
    "# model.add(layers.LSTM(64, return_sequences=True))\n",
    "# model.add(layers.Dropout(0.2))\n",
    "# model.add(layers.LSTM(64, return_sequences=True))\n",
    "# model.add(layers.Dropout(0.2))\n",
    "model.add(layers.Flatten())\n",
    "model.add(layers.Dense(1, activation='sigmoid'))"
   ]
  },
  {
   "cell_type": "code",
   "execution_count": 108,
   "id": "a39601dd",
   "metadata": {},
   "outputs": [],
   "source": [
    "cp = ModelCheckpoint('../models/ltsm_twitter/', save_best_only=True)\n",
    "\n",
    "model.compile(optimizer=Adam(learning_rate=0.0001),\n",
    "             loss=BinaryCrossentropy(),\n",
    "             metrics=['accuracy', AUC(name='auc')])"
   ]
  },
  {
   "cell_type": "code",
   "execution_count": 109,
   "id": "3143f509",
   "metadata": {},
   "outputs": [
    {
     "data": {
      "text/plain": [
       "0    20820\n",
       "1     1553\n",
       "Name: label, dtype: int64"
      ]
     },
     "execution_count": 109,
     "metadata": {},
     "output_type": "execute_result"
    }
   ],
   "source": [
    "frequences = pd.value_counts(train_df['label'])\n",
    "frequences"
   ]
  },
  {
   "cell_type": "code",
   "execution_count": 110,
   "id": "7d2b8991",
   "metadata": {},
   "outputs": [
    {
     "data": {
      "text/plain": [
       "{0: 1.0745917387127761, 1: 14.406310367031551}"
      ]
     },
     "execution_count": 110,
     "metadata": {},
     "output_type": "execute_result"
    }
   ],
   "source": [
    "# веса, чтобы в равной степени наказывать недопредставленные или перепредставленные классы\n",
    "weights = {0: frequences.sum() / frequences[0], 1: frequences.sum() / frequences[1]}\n",
    "weights"
   ]
  },
  {
   "cell_type": "code",
   "execution_count": 111,
   "id": "1e9dc0c8",
   "metadata": {},
   "outputs": [
    {
     "name": "stdout",
     "output_type": "stream",
     "text": [
      "Epoch 1/20\n",
      "699/700 [============================>.] - ETA: 0s - loss: 1.0466 - accuracy: 0.7237 - auc: 0.8225"
     ]
    },
    {
     "name": "stderr",
     "output_type": "stream",
     "text": [
      "WARNING:absl:Found untraced functions such as _update_step_xla, lstm_cell_6_layer_call_fn, lstm_cell_6_layer_call_and_return_conditional_losses while saving (showing 3 of 3). These functions will not be directly callable after loading.\n"
     ]
    },
    {
     "name": "stdout",
     "output_type": "stream",
     "text": [
      "INFO:tensorflow:Assets written to: ../models/ltsm_twitter\\assets\n"
     ]
    },
    {
     "name": "stderr",
     "output_type": "stream",
     "text": [
      "INFO:tensorflow:Assets written to: ../models/ltsm_twitter\\assets\n"
     ]
    },
    {
     "name": "stdout",
     "output_type": "stream",
     "text": [
      "700/700 [==============================] - 17s 23ms/step - loss: 1.0471 - accuracy: 0.7237 - auc: 0.8226 - val_loss: 0.5019 - val_accuracy: 0.7764 - val_auc: 0.8876\n",
      "Epoch 2/20\n",
      "699/700 [============================>.] - ETA: 0s - loss: 0.8159 - accuracy: 0.8151 - auc: 0.8960"
     ]
    },
    {
     "name": "stderr",
     "output_type": "stream",
     "text": [
      "WARNING:absl:Found untraced functions such as _update_step_xla, lstm_cell_6_layer_call_fn, lstm_cell_6_layer_call_and_return_conditional_losses while saving (showing 3 of 3). These functions will not be directly callable after loading.\n"
     ]
    },
    {
     "name": "stdout",
     "output_type": "stream",
     "text": [
      "INFO:tensorflow:Assets written to: ../models/ltsm_twitter\\assets\n"
     ]
    },
    {
     "name": "stderr",
     "output_type": "stream",
     "text": [
      "INFO:tensorflow:Assets written to: ../models/ltsm_twitter\\assets\n"
     ]
    },
    {
     "name": "stdout",
     "output_type": "stream",
     "text": [
      "700/700 [==============================] - 17s 24ms/step - loss: 0.8158 - accuracy: 0.8152 - auc: 0.8960 - val_loss: 0.4231 - val_accuracy: 0.8146 - val_auc: 0.8969\n",
      "Epoch 3/20\n",
      "699/700 [============================>.] - ETA: 0s - loss: 0.7750 - accuracy: 0.8247 - auc: 0.9063"
     ]
    },
    {
     "name": "stderr",
     "output_type": "stream",
     "text": [
      "WARNING:absl:Found untraced functions such as _update_step_xla, lstm_cell_6_layer_call_fn, lstm_cell_6_layer_call_and_return_conditional_losses while saving (showing 3 of 3). These functions will not be directly callable after loading.\n"
     ]
    },
    {
     "name": "stdout",
     "output_type": "stream",
     "text": [
      "INFO:tensorflow:Assets written to: ../models/ltsm_twitter\\assets\n"
     ]
    },
    {
     "name": "stderr",
     "output_type": "stream",
     "text": [
      "INFO:tensorflow:Assets written to: ../models/ltsm_twitter\\assets\n"
     ]
    },
    {
     "name": "stdout",
     "output_type": "stream",
     "text": [
      "700/700 [==============================] - 16s 23ms/step - loss: 0.7749 - accuracy: 0.8247 - auc: 0.9063 - val_loss: 0.3811 - val_accuracy: 0.8417 - val_auc: 0.9027\n",
      "Epoch 4/20\n",
      "700/700 [==============================] - 14s 20ms/step - loss: 0.7539 - accuracy: 0.8336 - auc: 0.9115 - val_loss: 0.4360 - val_accuracy: 0.8016 - val_auc: 0.9048\n",
      "Epoch 5/20\n",
      "700/700 [==============================] - 16s 23ms/step - loss: 0.7319 - accuracy: 0.8365 - auc: 0.9166 - val_loss: 0.6106 - val_accuracy: 0.7067 - val_auc: 0.9045\n",
      "Epoch 6/20\n",
      "698/700 [============================>.] - ETA: 0s - loss: 0.7163 - accuracy: 0.8410 - auc: 0.9201"
     ]
    },
    {
     "name": "stderr",
     "output_type": "stream",
     "text": [
      "WARNING:absl:Found untraced functions such as _update_step_xla, lstm_cell_6_layer_call_fn, lstm_cell_6_layer_call_and_return_conditional_losses while saving (showing 3 of 3). These functions will not be directly callable after loading.\n"
     ]
    },
    {
     "name": "stdout",
     "output_type": "stream",
     "text": [
      "INFO:tensorflow:Assets written to: ../models/ltsm_twitter\\assets\n"
     ]
    },
    {
     "name": "stderr",
     "output_type": "stream",
     "text": [
      "INFO:tensorflow:Assets written to: ../models/ltsm_twitter\\assets\n"
     ]
    },
    {
     "name": "stdout",
     "output_type": "stream",
     "text": [
      "700/700 [==============================] - 17s 24ms/step - loss: 0.7161 - accuracy: 0.8411 - auc: 0.9202 - val_loss: 0.3429 - val_accuracy: 0.8504 - val_auc: 0.9112\n",
      "Epoch 7/20\n",
      "700/700 [==============================] - 16s 22ms/step - loss: 0.6966 - accuracy: 0.8470 - auc: 0.9245 - val_loss: 0.4836 - val_accuracy: 0.7870 - val_auc: 0.9122\n",
      "Epoch 8/20\n",
      "700/700 [==============================] - 15s 21ms/step - loss: 0.6790 - accuracy: 0.8514 - auc: 0.9283 - val_loss: 0.3684 - val_accuracy: 0.8377 - val_auc: 0.9135\n",
      "Epoch 9/20\n",
      "700/700 [==============================] - 15s 22ms/step - loss: 0.6621 - accuracy: 0.8556 - auc: 0.9320 - val_loss: 0.4819 - val_accuracy: 0.7843 - val_auc: 0.9158\n",
      "Epoch 10/20\n",
      "700/700 [==============================] - ETA: 0s - loss: 0.6533 - accuracy: 0.8534 - auc: 0.9337"
     ]
    },
    {
     "name": "stderr",
     "output_type": "stream",
     "text": [
      "WARNING:absl:Found untraced functions such as _update_step_xla, lstm_cell_6_layer_call_fn, lstm_cell_6_layer_call_and_return_conditional_losses while saving (showing 3 of 3). These functions will not be directly callable after loading.\n"
     ]
    },
    {
     "name": "stdout",
     "output_type": "stream",
     "text": [
      "INFO:tensorflow:Assets written to: ../models/ltsm_twitter\\assets\n"
     ]
    },
    {
     "name": "stderr",
     "output_type": "stream",
     "text": [
      "INFO:tensorflow:Assets written to: ../models/ltsm_twitter\\assets\n"
     ]
    },
    {
     "name": "stdout",
     "output_type": "stream",
     "text": [
      "700/700 [==============================] - 17s 24ms/step - loss: 0.6533 - accuracy: 0.8534 - auc: 0.9337 - val_loss: 0.2952 - val_accuracy: 0.8732 - val_auc: 0.9167\n",
      "Epoch 11/20\n",
      "698/700 [============================>.] - ETA: 0s - loss: 0.6329 - accuracy: 0.8587 - auc: 0.9378"
     ]
    },
    {
     "name": "stderr",
     "output_type": "stream",
     "text": [
      "WARNING:absl:Found untraced functions such as _update_step_xla, lstm_cell_6_layer_call_fn, lstm_cell_6_layer_call_and_return_conditional_losses while saving (showing 3 of 3). These functions will not be directly callable after loading.\n"
     ]
    },
    {
     "name": "stdout",
     "output_type": "stream",
     "text": [
      "INFO:tensorflow:Assets written to: ../models/ltsm_twitter\\assets\n"
     ]
    },
    {
     "name": "stderr",
     "output_type": "stream",
     "text": [
      "INFO:tensorflow:Assets written to: ../models/ltsm_twitter\\assets\n"
     ]
    },
    {
     "name": "stdout",
     "output_type": "stream",
     "text": [
      "700/700 [==============================] - 17s 25ms/step - loss: 0.6323 - accuracy: 0.8588 - auc: 0.9378 - val_loss: 0.2817 - val_accuracy: 0.8834 - val_auc: 0.9185\n",
      "Epoch 12/20\n",
      "700/700 [==============================] - 15s 21ms/step - loss: 0.6284 - accuracy: 0.8558 - auc: 0.9387 - val_loss: 0.3138 - val_accuracy: 0.8646 - val_auc: 0.9197\n",
      "Epoch 13/20\n",
      "698/700 [============================>.] - ETA: 0s - loss: 0.6090 - accuracy: 0.8576 - auc: 0.9425"
     ]
    },
    {
     "name": "stderr",
     "output_type": "stream",
     "text": [
      "WARNING:absl:Found untraced functions such as _update_step_xla, lstm_cell_6_layer_call_fn, lstm_cell_6_layer_call_and_return_conditional_losses while saving (showing 3 of 3). These functions will not be directly callable after loading.\n"
     ]
    },
    {
     "name": "stdout",
     "output_type": "stream",
     "text": [
      "INFO:tensorflow:Assets written to: ../models/ltsm_twitter\\assets\n"
     ]
    },
    {
     "name": "stderr",
     "output_type": "stream",
     "text": [
      "INFO:tensorflow:Assets written to: ../models/ltsm_twitter\\assets\n"
     ]
    },
    {
     "name": "stdout",
     "output_type": "stream",
     "text": [
      "700/700 [==============================] - 17s 25ms/step - loss: 0.6100 - accuracy: 0.8577 - auc: 0.9423 - val_loss: 0.2791 - val_accuracy: 0.8846 - val_auc: 0.9198\n",
      "Epoch 14/20\n",
      "700/700 [==============================] - 16s 23ms/step - loss: 0.5967 - accuracy: 0.8639 - auc: 0.9448 - val_loss: 0.4029 - val_accuracy: 0.8141 - val_auc: 0.9207\n",
      "Epoch 15/20\n",
      "700/700 [==============================] - 16s 23ms/step - loss: 0.5765 - accuracy: 0.8669 - auc: 0.9482 - val_loss: 0.3781 - val_accuracy: 0.8252 - val_auc: 0.9222\n",
      "Epoch 16/20\n",
      "700/700 [==============================] - 16s 23ms/step - loss: 0.5642 - accuracy: 0.8670 - auc: 0.9502 - val_loss: 0.3955 - val_accuracy: 0.8166 - val_auc: 0.9218\n",
      "Epoch 17/20\n",
      "700/700 [==============================] - 16s 23ms/step - loss: 0.5500 - accuracy: 0.8716 - auc: 0.9525 - val_loss: 0.2940 - val_accuracy: 0.8688 - val_auc: 0.9216\n",
      "Epoch 18/20\n",
      "700/700 [==============================] - 16s 22ms/step - loss: 0.5410 - accuracy: 0.8719 - auc: 0.9540 - val_loss: 0.3611 - val_accuracy: 0.8392 - val_auc: 0.9234\n",
      "Epoch 19/20\n",
      "699/700 [============================>.] - ETA: 0s - loss: 0.5341 - accuracy: 0.8701 - auc: 0.9550"
     ]
    },
    {
     "name": "stderr",
     "output_type": "stream",
     "text": [
      "WARNING:absl:Found untraced functions such as _update_step_xla, lstm_cell_6_layer_call_fn, lstm_cell_6_layer_call_and_return_conditional_losses while saving (showing 3 of 3). These functions will not be directly callable after loading.\n"
     ]
    },
    {
     "name": "stdout",
     "output_type": "stream",
     "text": [
      "INFO:tensorflow:Assets written to: ../models/ltsm_twitter\\assets\n"
     ]
    },
    {
     "name": "stderr",
     "output_type": "stream",
     "text": [
      "INFO:tensorflow:Assets written to: ../models/ltsm_twitter\\assets\n"
     ]
    },
    {
     "name": "stdout",
     "output_type": "stream",
     "text": [
      "700/700 [==============================] - 19s 27ms/step - loss: 0.5343 - accuracy: 0.8701 - auc: 0.9549 - val_loss: 0.2555 - val_accuracy: 0.8899 - val_auc: 0.9236\n",
      "Epoch 20/20\n",
      "700/700 [==============================] - 17s 24ms/step - loss: 0.5191 - accuracy: 0.8757 - auc: 0.9575 - val_loss: 0.3210 - val_accuracy: 0.8565 - val_auc: 0.9262\n"
     ]
    }
   ],
   "source": [
    "history = model.fit(X_train, y_train, validation_data=(X_val, y_val), epochs=20, callbacks=[cp], class_weight=weights)"
   ]
  },
  {
   "cell_type": "code",
   "execution_count": 112,
   "id": "1bc72943",
   "metadata": {},
   "outputs": [
    {
     "data": {
      "image/png": "[encoded data removed]",
      "text/plain": [
       "<Figure size 640x480 with 1 Axes>"
      ]
     },
     "metadata": {},
     "output_type": "display_data"
    }
   ],
   "source": [
    "plt.plot(history.history['accuracy'], \n",
    "         label='Доля верных ответов на обучающем наборе')\n",
    "plt.plot(history.history['val_accuracy'], \n",
    "         label='Доля верных ответов на проверочном наборе')\n",
    "plt.xlabel('Эпоха обучения')\n",
    "plt.ylabel('Доля верных ответов')\n",
    "plt.legend()\n",
    "plt.show()"
   ]
  },
  {
   "cell_type": "code",
   "execution_count": 97,
   "id": "bb3edef1",
   "metadata": {},
   "outputs": [],
   "source": [
    "best_model = load_model('../models/ltsm_twitter/')"
   ]
  },
  {
   "cell_type": "code",
   "execution_count": 99,
   "id": "3970f09c",
   "metadata": {},
   "outputs": [
    {
     "name": "stdout",
     "output_type": "stream",
     "text": [
      "150/150 [==============================] - 4s 24ms/step\n"
     ]
    }
   ],
   "source": [
    "test_predictions = (best_model.predict(X_test) > 0.5).astype(int)"
   ]
  },
  {
   "cell_type": "code",
   "execution_count": 122,
   "id": "7e58bf7c",
   "metadata": {},
   "outputs": [
    {
     "data": {
      "text/plain": [
       "('#dailyaffirmation i do not #exist to #impress the world i exist to #live my #life in a way that will make me   ',\n",
       " array([0]),\n",
       " 0)"
      ]
     },
     "execution_count": 122,
     "metadata": {},
     "output_type": "execute_result"
    }
   ],
   "source": [
    "list(test_df['tweet'])[11], test_predictions[11], y_test[11]"
   ]
  },
  {
   "cell_type": "code",
   "execution_count": 101,
   "id": "843394c5",
   "metadata": {},
   "outputs": [
    {
     "name": "stdout",
     "output_type": "stream",
     "text": [
      "              precision    recall  f1-score   support\n",
      "\n",
      "           0       0.98      0.90      0.94      4454\n",
      "           1       0.38      0.81      0.52       341\n",
      "\n",
      "    accuracy                           0.89      4795\n",
      "   macro avg       0.68      0.85      0.73      4795\n",
      "weighted avg       0.94      0.89      0.91      4795\n",
      "\n"
     ]
    }
   ],
   "source": [
    "print(classification_report(y_test, test_predictions))"
   ]
  },
  {
   "cell_type": "code",
   "execution_count": 103,
   "id": "97c2e144",
   "metadata": {},
   "outputs": [
    {
     "name": "stdout",
     "output_type": "stream",
     "text": [
      "150/150 [==============================] - 3s 23ms/step - loss: 0.2830 - accuracy: 0.8747 - auc: 0.9344\n"
     ]
    },
    {
     "data": {
      "text/plain": [
       "[0.28304627537727356, 0.8746610879898071, 0.9343738555908203]"
      ]
     },
     "execution_count": 103,
     "metadata": {},
     "output_type": "execute_result"
    }
   ],
   "source": [
    "model.evaluate(X_test, y_test, verbose=1)"
   ]
  },
  {
   "cell_type": "code",
   "execution_count": null,
   "id": "b583253b",
   "metadata": {},
   "outputs": [],
   "source": []
  }
 ],
 "metadata": {
  "kernelspec": {
   "display_name": "Python 3 (ipykernel)",
   "language": "python",
   "name": "python3"
  },
  "language_info": {
   "codemirror_mode": {
    "name": "ipython",
    "version": 3
   },
   "file_extension": ".py",
   "mimetype": "text/x-python",
   "name": "python",
   "nbconvert_exporter": "python",
   "pygments_lexer": "ipython3",
   "version": "3.9.13"
  }
 },
 "nbformat": 4,
 "nbformat_minor": 5
}
